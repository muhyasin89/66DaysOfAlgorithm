{
 "cells": [
  {
   "cell_type": "markdown",
   "metadata": {},
   "source": [
    "## List\n",
    "[1,2,3,4]"
   ]
  },
  {
   "cell_type": "markdown",
   "metadata": {},
   "source": [
    "### make random list"
   ]
  },
  {
   "cell_type": "code",
   "execution_count": 5,
   "metadata": {},
   "outputs": [
    {
     "data": {
      "text/plain": [
       "[2, 7, 4, 3, 3, 2, 7, 6, 3, 2]"
      ]
     },
     "execution_count": 5,
     "metadata": {},
     "output_type": "execute_result"
    }
   ],
   "source": [
    "import random\n",
    "\n",
    "arr = []\n",
    "n = 10\n",
    "for i in range(n):\n",
    "    rand_int = random.randint(1,10)\n",
    "    arr.append(rand_int)\n",
    "\n",
    "\n",
    "arr"
   ]
  },
  {
   "cell_type": "markdown",
   "metadata": {},
   "source": [
    "### bubble sort"
   ]
  },
  {
   "cell_type": "code",
   "execution_count": 6,
   "metadata": {},
   "outputs": [
    {
     "data": {
      "text/plain": [
       "[7, 7, 6, 4, 3, 3, 3, 2, 2, 2]"
      ]
     },
     "execution_count": 6,
     "metadata": {},
     "output_type": "execute_result"
    }
   ],
   "source": [
    "# O(2^n)\n",
    "def reverseBubbleSort(arr):\n",
    "    for i in range(len(arr)-1):\n",
    "        for j in range(len(arr) - i -1):\n",
    "            if arr[j] < arr[j+1]:\n",
    "                arr[j], arr[j+1] = arr[j+1], arr[j]\n",
    "    return arr\n",
    "\n",
    "reverseBubbleSort(arr)"
   ]
  },
  {
   "cell_type": "markdown",
   "metadata": {},
   "source": [
    "### quick sort"
   ]
  },
  {
   "cell_type": "code",
   "execution_count": 7,
   "metadata": {},
   "outputs": [
    {
     "data": {
      "text/plain": [
       "[2, 2, 2, 3, 3, 3, 4, 6, 7, 7]"
      ]
     },
     "execution_count": 7,
     "metadata": {},
     "output_type": "execute_result"
    }
   ],
   "source": [
    "def partition(start, end, arr):\n",
    "    pivot= arr[end]\n",
    "    i = start -1\n",
    "    \n",
    "    for j in range(start, end):\n",
    "        if arr[j] <= pivot:\n",
    "            i+=1\n",
    "            arr[i], arr[j] = arr[j], arr[i]\n",
    "            \n",
    "    arr[i+1], arr[end] = arr[end], arr[i+1]\n",
    "    \n",
    "    return i+1\n",
    "\n",
    "def quickSort(start, end, arr):\n",
    "    if start < end:\n",
    "        p = partition(start, end, arr)\n",
    "        \n",
    "        quickSort(start, p-1, arr)\n",
    "        quickSort(p+1, end, arr)\n",
    "    return arr\n",
    "\n",
    "sort_arr = quickSort(0, len(arr)-1, arr)\n",
    "sort_arr"
   ]
  },
  {
   "cell_type": "code",
   "execution_count": 8,
   "metadata": {},
   "outputs": [
    {
     "data": {
      "text/plain": [
       "[7, 7, 6, 4, 3, 3, 3, 2, 2, 2]"
      ]
     },
     "execution_count": 8,
     "metadata": {},
     "output_type": "execute_result"
    }
   ],
   "source": [
    "arr = arr[::-1]\n",
    "arr"
   ]
  },
  {
   "cell_type": "code",
   "execution_count": 9,
   "metadata": {},
   "outputs": [
    {
     "data": {
      "text/plain": [
       "[2, 3, 4, 6, 7]"
      ]
     },
     "execution_count": 9,
     "metadata": {},
     "output_type": "execute_result"
    }
   ],
   "source": [
    "from itertools import permutations, combinations, combinations_with_replacement\n",
    "\n",
    "arr = list(set(arr))\n",
    "arr"
   ]
  },
  {
   "cell_type": "code",
   "execution_count": 39,
   "metadata": {},
   "outputs": [
    {
     "data": {
      "text/plain": [
       "[(2, 3),\n",
       " (2, 4),\n",
       " (2, 6),\n",
       " (2, 7),\n",
       " (3, 2),\n",
       " (3, 4),\n",
       " (3, 6),\n",
       " (3, 7),\n",
       " (4, 2),\n",
       " (4, 3),\n",
       " (4, 6),\n",
       " (4, 7),\n",
       " (6, 2),\n",
       " (6, 3),\n",
       " (6, 4),\n",
       " (6, 7),\n",
       " (7, 2),\n",
       " (7, 3),\n",
       " (7, 4),\n",
       " (7, 6)]"
      ]
     },
     "execution_count": 39,
     "metadata": {},
     "output_type": "execute_result"
    }
   ],
   "source": [
    "permut_arr = permutations(arr, 2)\n",
    "list(permut_arr)"
   ]
  },
  {
   "cell_type": "code",
   "execution_count": 38,
   "metadata": {},
   "outputs": [
    {
     "data": {
      "text/plain": [
       "[(2, 3),\n",
       " (2, 4),\n",
       " (2, 6),\n",
       " (2, 7),\n",
       " (3, 4),\n",
       " (3, 6),\n",
       " (3, 7),\n",
       " (4, 6),\n",
       " (4, 7),\n",
       " (6, 7)]"
      ]
     },
     "execution_count": 38,
     "metadata": {},
     "output_type": "execute_result"
    }
   ],
   "source": [
    "permut_arr = combinations(arr, 2)\n",
    "list(permut_arr)"
   ]
  },
  {
   "cell_type": "code",
   "execution_count": 37,
   "metadata": {},
   "outputs": [
    {
     "data": {
      "text/plain": [
       "[(2, 2),\n",
       " (2, 3),\n",
       " (2, 4),\n",
       " (2, 6),\n",
       " (2, 7),\n",
       " (3, 3),\n",
       " (3, 4),\n",
       " (3, 6),\n",
       " (3, 7),\n",
       " (4, 4),\n",
       " (4, 6),\n",
       " (4, 7),\n",
       " (6, 6),\n",
       " (6, 7),\n",
       " (7, 7)]"
      ]
     },
     "execution_count": 37,
     "metadata": {},
     "output_type": "execute_result"
    }
   ],
   "source": [
    "permut_arr = combinations_with_replacement(arr, 2)\n",
    "list(permut_arr)"
   ]
  },
  {
   "cell_type": "code",
   "execution_count": 68,
   "metadata": {},
   "outputs": [
    {
     "name": "stdout",
     "output_type": "stream",
     "text": [
      "['aasaa', 'feef', 'effe']\n",
      "['aa', 'saa', 'fe', 'ef']\n"
     ]
    }
   ],
   "source": [
    "list_a = [\"aa\",\"fe\", \"saa\", \"ef\", \"aabc\", \"a1a\"]\n",
    "permut_arr = permutations(list_a, 2)\n",
    "new_list = []\n",
    "for item in list(permut_arr):\n",
    "    new_list.append(item[0]+item[1])\n",
    "\n",
    "list_palindrome = []\n",
    "\n",
    "def change_word_to_list(word):\n",
    "    return [char for char in word]\n",
    "\n",
    "def change_list_to_str(word):\n",
    "    a = \"\"\n",
    "    for item in word:\n",
    "        a+=item\n",
    "    return a\n",
    "\n",
    "def palindrome(arr_word):\n",
    "    len_list = len(arr_word) // 2\n",
    "    \n",
    "    left = arr_word[:len_list]\n",
    "    right = arr_word[len_list:]\n",
    "    if len(left) != len(right):\n",
    "        right = arr_word[(len_list+1):]\n",
    "    \n",
    "    for i in range(len(left)):\n",
    "        if left[i] != right[len(left)-1-i]:\n",
    "            return False\n",
    "    list_palindrome.append(change_list_to_str(arr_word))\n",
    "    return True\n",
    "\n",
    "for item in new_list:  \n",
    "    palindrome(change_word_to_list(item))\n",
    "\n",
    "print(list_palindrome)\n",
    "\n",
    "def result_list():\n",
    "    return_list =[]\n",
    "    for item in list_palindrome:\n",
    "        for subitem in list_a:\n",
    "            if subitem in item:\n",
    "                if subitem in return_list: \n",
    "                    continue\n",
    "                \n",
    "                return_list.append(subitem)\n",
    "            \n",
    "    return return_list\n",
    "\n",
    "            \n",
    "print(result_list())\n"
   ]
  },
  {
   "cell_type": "code",
   "execution_count": 72,
   "metadata": {},
   "outputs": [
    {
     "name": "stdout",
     "output_type": "stream",
     "text": [
      "[[1, 7], [3, 5]]\n"
     ]
    }
   ],
   "source": [
    "list_int = [1,3,4,5,7]\n",
    "n =8\n",
    "\n",
    "combination_list = list(combinations(list_int, 2))\n",
    "combination_list\n",
    "\n",
    "def check_result(combination_list, n):\n",
    "    result_list = []\n",
    "    for item in combination_list:\n",
    "        if item[0]+ item[1] == n:\n",
    "            result_list.append(list(item))\n",
    "    return result_list\n",
    "\n",
    "print(check_result(combination_list, n))\n",
    "            "
   ]
  },
  {
   "cell_type": "code",
   "execution_count": 83,
   "metadata": {},
   "outputs": [
    {
     "name": "stdout",
     "output_type": "stream",
     "text": [
      "integer 1:4 times\n",
      "integer 3:2 times\n",
      "integer 2:1 times\n",
      "integer 4:1 times\n",
      "integer 5:2 times\n",
      "integer 6:1 times\n"
     ]
    }
   ],
   "source": [
    "list_c = [1,1,1,1,3,2,4,5,6,5,3]\n",
    "dict_a = {}\n",
    "for i in list_c:\n",
    "    if i in dict_a.keys():\n",
    "        dict_a[i] +=1\n",
    "    else:\n",
    "        dict_a[i] = 1\n",
    "        \n",
    "for item in dict_a:\n",
    "    print(\"integer {}:{} times\".format(item, dict_a[item]))\n",
    "        "
   ]
  },
  {
   "cell_type": "code",
   "execution_count": 130,
   "metadata": {},
   "outputs": [
    {
     "name": "stdout",
     "output_type": "stream",
     "text": [
      "False\n"
     ]
    }
   ],
   "source": [
    "string_in = \"(}{({[]))\"\n",
    "\n",
    "\n",
    "dict_closure = {\"{\":\"}\", \"[\":\"]\", \"(\":\")\"}\n",
    "\n",
    "def check_key(item):\n",
    "    for key, value in dict_closure.items():\n",
    "        if value == item:\n",
    "            return key\n",
    "        else:\n",
    "            return None\n",
    "\n",
    "def check_list_closure(list_d):\n",
    "    list_result = []\n",
    "    for i in range(len(list_d)):\n",
    "        if (list_d[i]) in dict_closure.keys():\n",
    "            if i+1 <= (len(list_d)):\n",
    "                if list_d[i+1] == dict_closure[list_d[i]]:\n",
    "                    if i+1 <= len(list_d)-1:\n",
    "                        print(\"{},{}\".format(list_d[i],list_d[i+1]))\n",
    "                    i +=2 if i+2 <= (len(list_d)-1) else (len(list_d)-1)\n",
    "                elif list_d[i+1] in dict_closure.values():\n",
    "                    return []\n",
    "        else:\n",
    "            if i == 0:\n",
    "                return []\n",
    "            else:\n",
    "                if list_d[i] in dict_closure.values() and list_d[i-1] in dict_closure.keys():\n",
    "                    if list_d[i-1] != check_key(list_d):\n",
    "                        return []\n",
    "                    \n",
    "    return list_result\n",
    "\n",
    "        \n",
    "def palindrome_new(left, right):\n",
    "    if len(left) != len(right):\n",
    "        return False\n",
    "        \n",
    "    for i in range(len(left)):\n",
    "        if left[i] != right[len(left)-1-i]:\n",
    "            return False\n",
    "    return True\n",
    "\n",
    "def check_closure(string_in):\n",
    "    if len(string_in) %2 !=0:\n",
    "        return False\n",
    "    \n",
    "    list_in = change_word_to_list(string_in)\n",
    "    mid = len(list_in) //2\n",
    "    left = string_in[:mid]\n",
    "    right = string_in[mid:]\n",
    "\n",
    "    list_left = check_list_closure(left)\n",
    "    list_right = check_list_closure(right)\n",
    "    \n",
    "    if not list_left or not list_right:\n",
    "        return False\n",
    "        \n",
    "    result = palindrome_new(list_left, list_right)\n",
    "    return result\n",
    "\n",
    "\n",
    "print(check_closure(string_in))\n",
    "\n"
   ]
  },
  {
   "cell_type": "markdown",
   "metadata": {},
   "source": [
    "## LinkedLink\n",
    "\n",
    "-> 1 ->4 -> 5 -> 6 -> 7"
   ]
  },
  {
   "cell_type": "markdown",
   "metadata": {},
   "source": [
    "### Declare Linked List "
   ]
  },
  {
   "cell_type": "code",
   "execution_count": 141,
   "metadata": {},
   "outputs": [
    {
     "name": "stdout",
     "output_type": "stream",
     "text": [
      "-> 1-> 4-> 5-> 6-> 7\n",
      "\n"
     ]
    }
   ],
   "source": [
    "arr =[1,4,5,6,7]\n",
    "\n",
    "class LinkedList:\n",
    "    none = None\n",
    "    def __init__(self, val=0, next=none):\n",
    "        assert next is LinkedList.none or isinstance(next, LinkedList)\n",
    "        self.val = val\n",
    "        self.next=next\n",
    "        \n",
    "        \n",
    "def change_list_to_linked(arr):\n",
    "    if len(arr) == 1:\n",
    "        return LinkedList(arr[0])\n",
    "    else:\n",
    "        return LinkedList(arr[0], change_list_to_linked(arr[1:]))\n",
    "    \n",
    "def printLinkedList(linkedlist):\n",
    "    head = linkedlist\n",
    "    \n",
    "    while head:\n",
    "        print(\"->\", head.val, end=\"\")\n",
    "        head = head.next\n",
    "        \n",
    "    print(\"\\n\")\n",
    "    \n",
    "printLinkedList(change_list_to_linked(arr))"
   ]
  },
  {
   "cell_type": "code",
   "execution_count": 158,
   "metadata": {},
   "outputs": [
    {
     "name": "stdout",
     "output_type": "stream",
     "text": [
      "[1, 4, 5, 6, 7]\n"
     ]
    }
   ],
   "source": [
    "def change_linked_list_to_arr(head):\n",
    "    arr=[]\n",
    "    while head:\n",
    "        arr.append(head.val)\n",
    "        head = head.next\n",
    "        \n",
    "    return arr\n",
    "print(change_linked_list_to_arr(change_list_to_linked(arr))) "
   ]
  },
  {
   "cell_type": "markdown",
   "metadata": {},
   "source": [
    "## Tree\n"
   ]
  },
  {
   "cell_type": "raw",
   "metadata": {},
   "source": [
    "\"\"\"\n",
    "    5\n",
    "  /   \\\n",
    " 4     6\n",
    "/     / \n",
    "1    7\n",
    "\n",
    "\"\"\""
   ]
  },
  {
   "cell_type": "markdown",
   "metadata": {},
   "source": [
    "### ChangeList to Tree"
   ]
  },
  {
   "cell_type": "code",
   "execution_count": 149,
   "metadata": {},
   "outputs": [
    {
     "data": {
      "text/plain": [
       "<__main__.Tree at 0x1081c5550>"
      ]
     },
     "execution_count": 149,
     "metadata": {},
     "output_type": "execute_result"
    }
   ],
   "source": [
    "class Tree:\n",
    "    def __init__(self, val=0, left=None, right=None):\n",
    "        self.val =val\n",
    "        self.left=left\n",
    "        self.right = right\n",
    "        \n",
    "def sortArrBST(arr):\n",
    "    if not arr:\n",
    "        return None\n",
    "    \n",
    "    mid = len(arr)//2\n",
    "    root = Tree(arr[mid])\n",
    "    root.left = sortArrBST(arr[:mid])\n",
    "    root.right = sortArrBST(arr[(mid+1):])\n",
    "    \n",
    "    return root\n",
    "\n",
    "first_tree = sortArrBST(arr)\n",
    "first_tree"
   ]
  },
  {
   "cell_type": "markdown",
   "metadata": {},
   "source": [
    "### Print PreOrder "
   ]
  },
  {
   "cell_type": "code",
   "execution_count": 153,
   "metadata": {},
   "outputs": [
    {
     "name": "stdout",
     "output_type": "stream",
     "text": [
      "[5, 4, 1, 7, 6]\n"
     ]
    }
   ],
   "source": [
    "def preOrder(head):\n",
    "    if head == None:\n",
    "        return []\n",
    "    \n",
    "    left = preOrder(head.left)\n",
    "    right = preOrder(head.right)\n",
    "    \n",
    "    return [head.val] + left+ right\n",
    "print(preOrder(first_tree))"
   ]
  },
  {
   "cell_type": "markdown",
   "metadata": {},
   "source": [
    "### Print InOrder "
   ]
  },
  {
   "cell_type": "code",
   "execution_count": 155,
   "metadata": {},
   "outputs": [
    {
     "name": "stdout",
     "output_type": "stream",
     "text": [
      "[1, 4, 5, 6, 7]\n"
     ]
    }
   ],
   "source": [
    "def inOrder(head):\n",
    "    if head == None:\n",
    "        return []\n",
    "    \n",
    "    left = inOrder(head.left)\n",
    "    right = inOrder(head.right)\n",
    "    \n",
    "    return left+  [head.val] +right\n",
    "print(inOrder(first_tree))"
   ]
  },
  {
   "cell_type": "markdown",
   "metadata": {},
   "source": [
    "### Print PostOrder "
   ]
  },
  {
   "cell_type": "code",
   "execution_count": 156,
   "metadata": {},
   "outputs": [
    {
     "name": "stdout",
     "output_type": "stream",
     "text": [
      "[1, 4, 5, 6, 7]\n"
     ]
    }
   ],
   "source": [
    "def postOrder(head):\n",
    "    if head == None:\n",
    "        return []\n",
    "    \n",
    "    left = postOrder(head.left)\n",
    "    right = postOrder(head.right)\n",
    "    \n",
    "    return left+  [head.val] +right\n",
    "print(postOrder(first_tree))"
   ]
  },
  {
   "cell_type": "code",
   "execution_count": null,
   "metadata": {},
   "outputs": [],
   "source": []
  }
 ],
 "metadata": {
  "kernelspec": {
   "display_name": "Python 3",
   "language": "python",
   "name": "python3"
  },
  "language_info": {
   "codemirror_mode": {
    "name": "ipython",
    "version": 3
   },
   "file_extension": ".py",
   "mimetype": "text/x-python",
   "name": "python",
   "nbconvert_exporter": "python",
   "pygments_lexer": "ipython3",
   "version": "3.8.11"
  }
 },
 "nbformat": 4,
 "nbformat_minor": 4
}
