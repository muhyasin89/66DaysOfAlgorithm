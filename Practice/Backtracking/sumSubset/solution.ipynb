{
 "cells": [
  {
   "cell_type": "code",
   "execution_count": 19,
   "metadata": {},
   "outputs": [],
   "source": [
    "def sumSubsets(arr, num):\n",
    "    all_list = []\n",
    "    curr = arr[0]\n",
    "    print(\"curr\",curr)\n",
    "    del arr[0]\n",
    "    for j in arr:\n",
    "        \n",
    "        if curr + j == num:\n",
    "            all_list.append([curr, j])\n",
    "        elif len(arr) == 1 and j == num and j:\n",
    "            all_list.append([j])\n",
    "        else:\n",
    "            sumSubsets(arr, num)\n",
    "        print(all_list)\n",
    "                \n",
    "                \n",
    "    return all_list"
   ]
  },
  {
   "cell_type": "code",
   "execution_count": 20,
   "metadata": {},
   "outputs": [
    {
     "name": "stdout",
     "output_type": "stream",
     "text": [
      "curr 1\n",
      "curr 2\n",
      "[[2, 3]]\n",
      "curr 3\n",
      "curr 4\n",
      "[[5]]\n",
      "[]\n",
      "[[2, 3]]\n",
      "[]\n"
     ]
    },
    {
     "data": {
      "text/plain": [
       "[]"
      ]
     },
     "execution_count": 20,
     "metadata": {},
     "output_type": "execute_result"
    }
   ],
   "source": [
    "arr= [1, 2, 3, 4, 5]\n",
    "num= 5\n",
    "sumSubsets(arr, num)"
   ]
  },
  {
   "cell_type": "code",
   "execution_count": null,
   "metadata": {},
   "outputs": [],
   "source": []
  }
 ],
 "metadata": {
  "kernelspec": {
   "display_name": "Python 3",
   "language": "python",
   "name": "python3"
  },
  "language_info": {
   "codemirror_mode": {
    "name": "ipython",
    "version": 3
   },
   "file_extension": ".py",
   "mimetype": "text/x-python",
   "name": "python",
   "nbconvert_exporter": "python",
   "pygments_lexer": "ipython3",
   "version": "3.8.11"
  }
 },
 "nbformat": 4,
 "nbformat_minor": 4
}
