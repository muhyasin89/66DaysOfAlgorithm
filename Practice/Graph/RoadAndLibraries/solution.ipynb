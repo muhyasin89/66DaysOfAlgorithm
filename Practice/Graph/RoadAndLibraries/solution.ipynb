{
 "cells": [
  {
   "cell_type": "raw",
   "metadata": {},
   "source": [
    "Input:\n",
    "t:\n",
    "{\n",
    "    \"value\": 1,\n",
    "    \"left\": {\n",
    "        \"value\": 2,\n",
    "        \"left\": null,\n",
    "        \"right\": {\n",
    "            \"value\": 3,\n",
    "            \"left\": null,\n",
    "            \"right\": null\n",
    "        }\n",
    "    },\n",
    "    \"right\": {\n",
    "        \"value\": 4,\n",
    "        \"left\": {\n",
    "            \"value\": 5,\n",
    "            \"left\": null,\n",
    "            \"right\": null\n",
    "        },\n",
    "        \"right\": null\n",
    "    }\n",
    "}"
   ]
  },
  {
   "cell_type": "raw",
   "metadata": {},
   "source": [
    "                  1\n",
    "                 / \\\n",
    "                2   4\n",
    "                \\   /\n",
    "                 3 5"
   ]
  },
  {
   "cell_type": "code",
   "execution_count": 15,
   "metadata": {},
   "outputs": [],
   "source": [
    "# Binary trees are already defined with this interface:\n",
    "class Tree(object):\n",
    "  def __init__(self, x):\n",
    "    self.value = x\n",
    "    self.left = None\n",
    "    self.right = None\n",
    "\n",
    "def traverseTree(t):\n",
    "    current = t\n",
    "    stack = [] # initialize stack\n",
    "    result_stack = []\n",
    "     \n",
    "    while True:\n",
    "         \n",
    "        # Reach the left most Node of the current Node\n",
    "        if current is not None:\n",
    "             \n",
    "            # Place pointer to a tree node on the stack\n",
    "            # before traversing the node's left subtree\n",
    "            stack.append(current)\n",
    "         \n",
    "            current = current.left\n",
    " \n",
    "         \n",
    "        # BackTrack from the empty subtree and visit the Node\n",
    "        # at the top of the stack; however, if the stack is\n",
    "        # empty you are done\n",
    "        elif(stack):\n",
    "            current = stack.pop()\n",
    "            result_stack.append(current.value)\n",
    "            # We have visited the node and its left\n",
    "            # subtree. Now, it's right subtree's turn\n",
    "            current = current.right\n",
    " \n",
    "        else:\n",
    "            break\n",
    "            \n",
    "    return result_stack"
   ]
  },
  {
   "cell_type": "code",
   "execution_count": 8,
   "metadata": {},
   "outputs": [],
   "source": [
    "root = Tree(1)\n",
    "\n",
    "root.left = Tree(2)\n",
    "\n",
    "root.left.left = None\n",
    "root.left.right = Tree(3)\n",
    "\n",
    "root.left.right.left = root.left.right.right = None\n",
    "   \n",
    "root.right = Tree(4)\n",
    "root.right.right = None\n",
    "root.right.left = Tree(5)\n",
    "root.right.left.left = root.right.left.right = None"
   ]
  },
  {
   "cell_type": "code",
   "execution_count": 17,
   "metadata": {},
   "outputs": [
    {
     "name": "stdout",
     "output_type": "stream",
     "text": [
      "2 3 1 5 4 "
     ]
    },
    {
     "data": {
      "text/plain": [
       "[2, 3, 1, 5, 4]"
      ]
     },
     "execution_count": 17,
     "metadata": {},
     "output_type": "execute_result"
    }
   ],
   "source": [
    "#inorder\n",
    "traverseTree(root)"
   ]
  },
  {
   "cell_type": "markdown",
   "metadata": {},
   "source": [
    "Expected output\n",
    "[1, 2, 4, 3, 5]"
   ]
  },
  {
   "cell_type": "raw",
   "metadata": {},
   "source": [
    "# A function to do inorder tree traversal\n",
    "def printInorder(root):\n",
    " \n",
    "    if root:\n",
    " \n",
    "        # First recur on left child\n",
    "        printInorder(root.left)\n",
    " \n",
    "        # then print the data of node\n",
    "        print(root.val),\n",
    " \n",
    "        # now recur on right child\n",
    "        printInorder(root.right)\n",
    " \n",
    " \n",
    "# A function to do postorder tree traversal\n",
    "def printPostorder(root):\n",
    " \n",
    "    if root:\n",
    " \n",
    "        # First recur on left child\n",
    "        printPostorder(root.left)\n",
    " \n",
    "        # the recur on right child\n",
    "        printPostorder(root.right)\n",
    " \n",
    "        # now print the data of node\n",
    "        print(root.val),\n",
    " \n",
    " \n",
    "# A function to do preorder tree traversal\n",
    "def printPreorder(root):\n",
    " \n",
    "    if root:\n",
    " \n",
    "        # First print the data of node\n",
    "        print(root.val),\n",
    " \n",
    "        # Then recur on left child\n",
    "        printPreorder(root.left)\n",
    " \n",
    "        # Finally recur on right child\n",
    "        printPreorder(root.right)"
   ]
  },
  {
   "cell_type": "code",
   "execution_count": 50,
   "metadata": {},
   "outputs": [],
   "source": [
    "def traverseTreePreOrder(t):\n",
    "    current = t\n",
    "    stack = [] # initialize stack\n",
    "    result_stack = []\n",
    "     \n",
    "    while True:\n",
    "         \n",
    "        # Reach the left most Node of the current Node\n",
    "        if current is not None:\n",
    "             \n",
    "            if current:\n",
    "                if current.value not in result_stack:\n",
    "                    result_stack.append(current.value)\n",
    "            if current.left:\n",
    "                if current.left.value not in result_stack:\n",
    "                    result_stack.append(current.left.value)\n",
    "            if current.right:\n",
    "                if current.right.value not in result_stack:\n",
    "                    result_stack.append(current.right.value)\n",
    "            \n",
    "            stack.append(current)\n",
    "            current = current.left\n",
    " \n",
    "         \n",
    "        # BackTrack from the empty subtree and visit the Node\n",
    "        # at the top of the stack; however, if the stack is\n",
    "        # empty you are done\n",
    "        elif(stack):\n",
    "            current = stack.pop()\n",
    "            if current.value not in result_stack:\n",
    "                result_stack.append(current.value)\n",
    "            # We have visited the node and its left\n",
    "            # subtree. Now, it's right subtree's turn\n",
    "            current = current.right\n",
    " \n",
    "        else:\n",
    "            break\n",
    "            \n",
    "    return result_stack"
   ]
  },
  {
   "cell_type": "code",
   "execution_count": 51,
   "metadata": {},
   "outputs": [
    {
     "data": {
      "text/plain": [
       "[1, 2, 4, 3, 5]"
      ]
     },
     "execution_count": 51,
     "metadata": {},
     "output_type": "execute_result"
    }
   ],
   "source": [
    "traverseTreePreOrder(root)"
   ]
  },
  {
   "cell_type": "raw",
   "metadata": {},
   "source": [
    "The test Failed when\n",
    "Output:\n",
    "[15]\n",
    "Expected Output:\n",
    "[15, 15]"
   ]
  },
  {
   "cell_type": "code",
   "execution_count": 38,
   "metadata": {},
   "outputs": [],
   "source": [
    "def traverseTreeTest(t):\n",
    "    current = t\n",
    "    stack = [] # initialize stack\n",
    "    result_stack = []\n",
    "     \n",
    "    while True:\n",
    "         \n",
    "        # Reach the left most Node of the current Node\n",
    "        if current is not None:\n",
    "             \n",
    "            # Place pointer to a tree node on the stack\n",
    "            # before traversing the node's left subtree\n",
    "            stack.append(current)\n",
    "            print(current.value)\n",
    "            current = current.left\n",
    " \n",
    "         \n",
    "        # BackTrack from the empty subtree and visit the Node\n",
    "        # at the top of the stack; however, if the stack is\n",
    "        # empty you are done\n",
    "        elif(stack):\n",
    "            current = stack.pop()\n",
    "#             result_stack.append(current.value)\n",
    "#             # We have visited the node and its left\n",
    "#             # subtree. Now, it's right subtree's turn\n",
    "            current = current.right\n",
    " \n",
    "        else:\n",
    "            break\n",
    "            \n",
    "    return result_stack"
   ]
  },
  {
   "cell_type": "code",
   "execution_count": 39,
   "metadata": {},
   "outputs": [
    {
     "name": "stdout",
     "output_type": "stream",
     "text": [
      "1\n",
      "2\n",
      "3\n",
      "4\n",
      "5\n"
     ]
    },
    {
     "data": {
      "text/plain": [
       "[]"
      ]
     },
     "execution_count": 39,
     "metadata": {},
     "output_type": "execute_result"
    }
   ],
   "source": [
    "traverseTreeTest(root)"
   ]
  },
  {
   "cell_type": "code",
   "execution_count": 42,
   "metadata": {},
   "outputs": [],
   "source": [
    "def traverseTreePreOrder(t):\n",
    "    current = t\n",
    "    stack = [] # initialize stack\n",
    "    result_stack = []\n",
    "     \n",
    "    while True:\n",
    "         \n",
    "        # Reach the left most Node of the current Node\n",
    "        if current is not None:\n",
    "             \n",
    "            if current and current not in stack:\n",
    "                stack.append(current)\n",
    "            if current.left and current.left not in stack:\n",
    "                stack.append(current.left)\n",
    "            if current.right and current.right not in stack:\n",
    "                stack.append(current.right)\n",
    "         \n",
    "            current = current.left\n",
    " \n",
    "         \n",
    "        # BackTrack from the empty subtree and visit the Node\n",
    "        # at the top of the stack; however, if the stack is\n",
    "        # empty you are done\n",
    "        elif(stack):\n",
    "            current = stack.pop()\n",
    "            \n",
    "            result_stack.append(current.value)\n",
    "            # We have visited the node and its left\n",
    "            # subtree. Now, it's right subtree's turn\n",
    "            current = current.right\n",
    " \n",
    "        else:\n",
    "            break\n",
    "            \n",
    "    return result_stack"
   ]
  },
  {
   "cell_type": "code",
   "execution_count": 43,
   "metadata": {},
   "outputs": [
    {
     "data": {
      "text/plain": [
       "[3, 4, 2, 3, 1, 5, 4]"
      ]
     },
     "execution_count": 43,
     "metadata": {},
     "output_type": "execute_result"
    }
   ],
   "source": [
    "traverseTreePreOrder(root)"
   ]
  },
  {
   "cell_type": "code",
   "execution_count": null,
   "metadata": {},
   "outputs": [],
   "source": []
  }
 ],
 "metadata": {
  "kernelspec": {
   "display_name": "Python 3",
   "language": "python",
   "name": "python3"
  },
  "language_info": {
   "codemirror_mode": {
    "name": "ipython",
    "version": 3
   },
   "file_extension": ".py",
   "mimetype": "text/x-python",
   "name": "python",
   "nbconvert_exporter": "python",
   "pygments_lexer": "ipython3",
   "version": "3.8.11"
  }
 },
 "nbformat": 4,
 "nbformat_minor": 4
}
