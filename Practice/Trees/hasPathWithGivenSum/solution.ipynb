{
 "cells": [
  {
   "cell_type": "markdown",
   "metadata": {},
   "source": [
    "## The solution"
   ]
  },
  {
   "cell_type": "code",
   "execution_count": 8,
   "metadata": {},
   "outputs": [],
   "source": [
    "# Binary trees are already defined with this interface:\n",
    "class Tree(object):\n",
    "  def __init__(self, x):\n",
    "    self.value = x\n",
    "    self.left = None\n",
    "    self.right = None\n",
    "\n",
    "\n",
    "def hasPathWithGivenSum(t, s):\n",
    "    # if no tree node and s is 0\n",
    "    if t is None:\n",
    "        if s == 0:\n",
    "            message = \"T is none s is zero\"\n",
    "            result =  True\n",
    "        else:\n",
    "            message = \"T is none s is not zero\"\n",
    "            result =  False\n",
    "            \n",
    "        print(message)\n",
    "        print(result)\n",
    "        print(\"============\")\n",
    "        return result\n",
    "    else:\n",
    "        # check if 2 tree has value\n",
    "\n",
    "        if t.left is not None and t.right is not None:\n",
    "            # The any() function returns True if any element of an iterable is True.\n",
    "            # If not, any() returns False.\n",
    "            message = \"Inside perfect tree\"\n",
    "\n",
    "            result = any(\n",
    "                [\n",
    "                    hasPathWithGivenSum(t.left, s - t.value),\n",
    "                    hasPathWithGivenSum(t.right, s - t.value),\n",
    "                ]\n",
    "            )\n",
    "            print(message)\n",
    "            print(result)\n",
    "            print(\"============\")\n",
    "                \n",
    "            \n",
    "            return result\n",
    "        elif t.left is not None:\n",
    "            result = hasPathWithGivenSum(t.left, s - t.value)\n",
    "            message = \"Inside left tree\"\n",
    "            print(message)\n",
    "            print(result)\n",
    "            print(\"============\")\n",
    "            return result\n",
    "        elif t.right is not None:\n",
    "            result = hasPathWithGivenSum(t.right, s - t.value)\n",
    "            message = \"Inside right tree\"\n",
    "            print(message)\n",
    "            print(result)\n",
    "            print(\"============\")\n",
    "            return result\n",
    "        else:\n",
    "            message = \"Inside no tree\"\n",
    "            if t.value == s:\n",
    "                result = True\n",
    "            else:\n",
    "                result = False\n",
    "            print(message)\n",
    "            print(result)\n",
    "            print(\"============\")\n",
    "            return result\n"
   ]
  },
  {
   "cell_type": "markdown",
   "metadata": {},
   "source": [
    "### Input"
   ]
  },
  {
   "cell_type": "raw",
   "metadata": {},
   "source": [
    "       4\n",
    "      /  \\\n",
    "     1    3\n",
    "    /    /  \\\n",
    "   -2   1    2\n",
    "     \\      / \\\n",
    "     3     -2  -3\n",
    "     "
   ]
  },
  {
   "cell_type": "code",
   "execution_count": 4,
   "metadata": {},
   "outputs": [],
   "source": [
    "root= Tree(4)\n",
    "root.left = Tree(1)\n",
    "root.left.left = Tree(-2)\n",
    "root.left.right = None\n",
    "root.left.left.right = Tree(3)\n",
    "root.left.left.left = None\n",
    "root.left.left.right.left = root.left.left.right.right =None\n",
    "\n",
    "\n",
    "root.right = Tree(3)\n",
    "root.right.left = Tree(1)\n",
    "root.right.right = Tree(2)\n",
    "root.right.left.left = root.right.left.right = None\n",
    "\n",
    "root.right.right.left = Tree(-2)\n",
    "root.right.right.right = Tree(-3)\n",
    "\n",
    "root.right.right.left.left = root.right.right.left.right = None\n",
    "root.right.right.right.left = root.right.right.right.right = None\n",
    "\n",
    "s=7"
   ]
  },
  {
   "cell_type": "code",
   "execution_count": 9,
   "metadata": {},
   "outputs": [
    {
     "name": "stdout",
     "output_type": "stream",
     "text": [
      "Inside no tree\n",
      "False\n",
      "============\n",
      "Inside right tree\n",
      "False\n",
      "============\n",
      "Inside left tree\n",
      "False\n",
      "============\n",
      "Inside no tree\n",
      "False\n",
      "============\n",
      "Inside no tree\n",
      "True\n",
      "============\n",
      "Inside no tree\n",
      "False\n",
      "============\n",
      "Inside perfect tree\n",
      "True\n",
      "============\n",
      "Inside perfect tree\n",
      "True\n",
      "============\n",
      "Inside perfect tree\n",
      "True\n",
      "============\n"
     ]
    },
    {
     "data": {
      "text/plain": [
       "True"
      ]
     },
     "execution_count": 9,
     "metadata": {},
     "output_type": "execute_result"
    }
   ],
   "source": [
    "t = root\n",
    "hasPathWithGivenSum(t, s)"
   ]
  },
  {
   "cell_type": "code",
   "execution_count": 6,
   "metadata": {},
   "outputs": [
    {
     "name": "stdout",
     "output_type": "stream",
     "text": [
      "Inside no tree\n",
      "False\n",
      "============\n",
      "Inside right tree\n",
      "False\n",
      "============\n",
      "Inside left tree\n",
      "False\n",
      "============\n"
     ]
    },
    {
     "data": {
      "text/plain": [
       "False"
      ]
     },
     "execution_count": 6,
     "metadata": {},
     "output_type": "execute_result"
    }
   ],
   "source": [
    "hasPathWithGivenSum(t.left, s - t.value)"
   ]
  },
  {
   "cell_type": "code",
   "execution_count": 7,
   "metadata": {},
   "outputs": [
    {
     "name": "stdout",
     "output_type": "stream",
     "text": [
      "Inside no tree\n",
      "False\n",
      "============\n",
      "Inside no tree\n",
      "True\n",
      "============\n",
      "Inside no tree\n",
      "False\n",
      "============\n",
      "Inside perfect tree\n",
      "True\n",
      "============\n",
      "Inside perfect tree\n",
      "True\n",
      "============\n"
     ]
    },
    {
     "data": {
      "text/plain": [
       "True"
      ]
     },
     "execution_count": 7,
     "metadata": {},
     "output_type": "execute_result"
    }
   ],
   "source": [
    "hasPathWithGivenSum(t.right, s - t.value)"
   ]
  },
  {
   "cell_type": "raw",
   "metadata": {},
   "source": [
    "t={\n",
    "    \"value\": 4,\n",
    "    \"left\": {\n",
    "        \"value\": 1,\n",
    "        \"left\": {\n",
    "            \"value\": -2,\n",
    "            \"left\": None,\n",
    "            \"right\": {\n",
    "                \"value\": 3,\n",
    "                \"left\": None,\n",
    "                \"right\": None\n",
    "            }\n",
    "        },\n",
    "        \"right\": None\n",
    "    },\n",
    "    \"right\": {\n",
    "        \"value\": 3,\n",
    "        \"left\": {\n",
    "            \"value\": 1,\n",
    "            \"left\": None,\n",
    "            \"right\": None\n",
    "        },\n",
    "        \"right\": {\n",
    "            \"value\": 2,\n",
    "            \"left\": {\n",
    "                \"value\": -2,\n",
    "                \"left\": None,\n",
    "                \"right\": None\n",
    "            },\n",
    "            \"right\": {\n",
    "                \"value\": -3,\n",
    "                \"left\": None,\n",
    "                \"right\": None\n",
    "            }\n",
    "        }\n",
    "    }\n",
    "}\n",
    "s=7"
   ]
  },
  {
   "cell_type": "code",
   "execution_count": null,
   "metadata": {},
   "outputs": [],
   "source": []
  }
 ],
 "metadata": {
  "kernelspec": {
   "display_name": "Python 3",
   "language": "python",
   "name": "python3"
  },
  "language_info": {
   "codemirror_mode": {
    "name": "ipython",
    "version": 3
   },
   "file_extension": ".py",
   "mimetype": "text/x-python",
   "name": "python",
   "nbconvert_exporter": "python",
   "pygments_lexer": "ipython3",
   "version": "3.8.11"
  }
 },
 "nbformat": 4,
 "nbformat_minor": 4
}
